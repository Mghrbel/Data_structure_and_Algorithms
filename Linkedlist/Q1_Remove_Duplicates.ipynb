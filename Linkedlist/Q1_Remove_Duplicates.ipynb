{
 "cells": [
  {
   "attachments": {},
   "cell_type": "markdown",
   "metadata": {},
   "source": [
    "# Q1 : Remove duplicates"
   ]
  },
  {
   "cell_type": "code",
   "execution_count": 1,
   "metadata": {},
   "outputs": [],
   "source": [
    "from singlelinkedlist import SingleLinkedList"
   ]
  },
  {
   "attachments": {},
   "cell_type": "markdown",
   "metadata": {},
   "source": [
    "##### Method 1 : usning buffer to save visited value \n",
    "##### Time complexity : O(n)\n",
    "##### Space complexity : O(n)"
   ]
  },
  {
   "cell_type": "code",
   "execution_count": 2,
   "metadata": {},
   "outputs": [],
   "source": [
    "def removeDups (ll) :\n",
    "    if ll.head is None :\n",
    "        return \n",
    "    else :\n",
    "        node = ll.head\n",
    "        visited = set()\n",
    "        visited.add(node.value)\n",
    "\n",
    "        while node.next :\n",
    "            if node.next.value in visited :\n",
    "                node.next = node.next.next\n",
    "            else :\n",
    "                visited.add(node.next.value)\n",
    "                node = node.next\n",
    "        return ll"
   ]
  },
  {
   "cell_type": "code",
   "execution_count": 3,
   "metadata": {},
   "outputs": [
    {
     "name": "stdout",
     "output_type": "stream",
     "text": [
      "0 -> 1 -> 2 -> 1 -> 3 -> 5 -> 22 -> 2 -> 0 -> 5 -> 7 -> 0 -> 22\n",
      "0 -> 1 -> 2 -> 3 -> 5 -> 22 -> 7\n"
     ]
    }
   ],
   "source": [
    "SLL = SingleLinkedList()\n",
    "SLL.insert(0, -1)\n",
    "SLL.insert(1, -1)\n",
    "SLL.insert(2, -1)\n",
    "SLL.insert(1, -1)\n",
    "SLL.insert(3, -1)\n",
    "SLL.insert(5, -1)\n",
    "SLL.insert(22, -1)\n",
    "SLL.insert(2, -1)\n",
    "SLL.insert(0, -1)\n",
    "SLL.insert(5, -1)\n",
    "SLL.insert(7, -1)\n",
    "SLL.insert(0, -1)\n",
    "SLL.insert(22, -1)\n",
    "print(SLL)\n",
    "print(removeDups(SLL))"
   ]
  },
  {
   "attachments": {},
   "cell_type": "markdown",
   "metadata": {},
   "source": [
    "##### Method 2 : usning two pointers  \n",
    "##### Time complexity : O(n^2)\n",
    "##### Space complexity : O(1)"
   ]
  },
  {
   "cell_type": "code",
   "execution_count": 4,
   "metadata": {},
   "outputs": [],
   "source": [
    "def removeDups (ll) :\n",
    "    if ll.head is None :\n",
    "        return \n",
    "    else :\n",
    "        current = ll.head\n",
    "        while current.next :\n",
    "            runner = current\n",
    "            while runner.next :\n",
    "                if runner.next.value == current.value :\n",
    "                    runner.next = runner.next.next\n",
    "                else :\n",
    "                    runner = runner.next\n",
    "            current = current.next\n",
    "    return ll"
   ]
  },
  {
   "cell_type": "code",
   "execution_count": 5,
   "metadata": {},
   "outputs": [
    {
     "name": "stdout",
     "output_type": "stream",
     "text": [
      "0 -> 1 -> 2 -> 1 -> 3 -> 5 -> 22 -> 2 -> 0 -> 5 -> 7 -> 0 -> 22\n",
      "0 -> 1 -> 2 -> 3 -> 5 -> 22 -> 7\n"
     ]
    }
   ],
   "source": [
    "SLL = SingleLinkedList()\n",
    "SLL.insert(0, -1)\n",
    "SLL.insert(1, -1)\n",
    "SLL.insert(2, -1)\n",
    "SLL.insert(1, -1)\n",
    "SLL.insert(3, -1)\n",
    "SLL.insert(5, -1)\n",
    "SLL.insert(22, -1)\n",
    "SLL.insert(2, -1)\n",
    "SLL.insert(0, -1)\n",
    "SLL.insert(5, -1)\n",
    "SLL.insert(7, -1)\n",
    "SLL.insert(0, -1)\n",
    "SLL.insert(22, -1)\n",
    "print(SLL)\n",
    "print(removeDups(SLL))"
   ]
  }
 ],
 "metadata": {
  "kernelspec": {
   "display_name": "Python 3",
   "language": "python",
   "name": "python3"
  },
  "language_info": {
   "codemirror_mode": {
    "name": "ipython",
    "version": 3
   },
   "file_extension": ".py",
   "mimetype": "text/x-python",
   "name": "python",
   "nbconvert_exporter": "python",
   "pygments_lexer": "ipython3",
   "version": "3.8.0"
  },
  "orig_nbformat": 4,
  "vscode": {
   "interpreter": {
    "hash": "8882cbebe937bc58bfbb523ed1681d9adefe53b738151a1aed1222029fd6c7da"
   }
  }
 },
 "nbformat": 4,
 "nbformat_minor": 2
}
