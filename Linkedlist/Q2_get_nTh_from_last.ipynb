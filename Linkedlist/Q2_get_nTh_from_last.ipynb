{
 "cells": [
  {
   "attachments": {},
   "cell_type": "markdown",
   "metadata": {},
   "source": [
    "# Q2 : Get the nTh element from last element"
   ]
  },
  {
   "cell_type": "code",
   "execution_count": 1,
   "metadata": {},
   "outputs": [],
   "source": [
    "from singlelinkedlist import SingleLinkedList"
   ]
  },
  {
   "cell_type": "code",
   "execution_count": 21,
   "metadata": {},
   "outputs": [],
   "source": [
    "def get_nTh_from_last(ll, n) :\n",
    "    pointer_1 = ll.head\n",
    "    pointer_2 = ll.head\n",
    "\n",
    "    for i in range(n) :\n",
    "        if pointer_2 is None :\n",
    "            return None\n",
    "        pointer_2 = pointer_2.next\n",
    "    \n",
    "    while pointer_2.next :\n",
    "        pointer_2 = pointer_2.next\n",
    "        pointer_1 = pointer_1.next\n",
    "    \n",
    "    return pointer_1.value"
   ]
  },
  {
   "cell_type": "code",
   "execution_count": 22,
   "metadata": {},
   "outputs": [
    {
     "name": "stdout",
     "output_type": "stream",
     "text": [
      "0 -> 1 -> 2 -> 1 -> 3 -> 5 -> 22 -> 2 -> 0 -> 5 -> 7 -> 0 -> 22\n"
     ]
    }
   ],
   "source": [
    "SLL = SingleLinkedList()\n",
    "SLL.insert(0, -1)\n",
    "SLL.insert(1, -1)\n",
    "SLL.insert(2, -1)\n",
    "SLL.insert(1, -1)\n",
    "SLL.insert(3, -1)\n",
    "SLL.insert(5, -1)\n",
    "SLL.insert(22, -1)\n",
    "SLL.insert(2, -1)\n",
    "SLL.insert(0, -1)\n",
    "SLL.insert(5, -1)\n",
    "SLL.insert(7, -1)\n",
    "SLL.insert(0, -1)\n",
    "SLL.insert(22, -1)\n",
    "print(SLL)"
   ]
  },
  {
   "cell_type": "code",
   "execution_count": 23,
   "metadata": {},
   "outputs": [
    {
     "data": {
      "text/plain": [
       "3"
      ]
     },
     "execution_count": 23,
     "metadata": {},
     "output_type": "execute_result"
    }
   ],
   "source": [
    "get_nTh_from_last(SLL, 8)"
   ]
  },
  {
   "cell_type": "code",
   "execution_count": 24,
   "metadata": {},
   "outputs": [
    {
     "data": {
      "text/plain": [
       "5"
      ]
     },
     "execution_count": 24,
     "metadata": {},
     "output_type": "execute_result"
    }
   ],
   "source": [
    "get_nTh_from_last(SLL, 3)"
   ]
  },
  {
   "cell_type": "code",
   "execution_count": 25,
   "metadata": {},
   "outputs": [
    {
     "data": {
      "text/plain": [
       "22"
      ]
     },
     "execution_count": 25,
     "metadata": {},
     "output_type": "execute_result"
    }
   ],
   "source": [
    "get_nTh_from_last(SLL, 0)"
   ]
  }
 ],
 "metadata": {
  "kernelspec": {
   "display_name": "Python 3",
   "language": "python",
   "name": "python3"
  },
  "language_info": {
   "codemirror_mode": {
    "name": "ipython",
    "version": 3
   },
   "file_extension": ".py",
   "mimetype": "text/x-python",
   "name": "python",
   "nbconvert_exporter": "python",
   "pygments_lexer": "ipython3",
   "version": "3.8.0"
  },
  "orig_nbformat": 4,
  "vscode": {
   "interpreter": {
    "hash": "8882cbebe937bc58bfbb523ed1681d9adefe53b738151a1aed1222029fd6c7da"
   }
  }
 },
 "nbformat": 4,
 "nbformat_minor": 2
}
